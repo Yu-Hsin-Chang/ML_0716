{
  "nbformat": 4,
  "nbformat_minor": 0,
  "metadata": {
    "colab": {
      "name": "boston.ipynb",
      "provenance": [],
      "collapsed_sections": [],
      "mount_file_id": "1EJbxXrv7fwmF5DlDxvaUZJBouvBXD1a-",
      "authorship_tag": "ABX9TyPXHdcCZ0XX6ip7J6eC/lZW",
      "include_colab_link": true
    },
    "kernelspec": {
      "name": "python3",
      "display_name": "Python 3"
    }
  },
  "cells": [
    {
      "cell_type": "markdown",
      "metadata": {
        "id": "view-in-github",
        "colab_type": "text"
      },
      "source": [
        "<a href=\"https://colab.research.google.com/github/Yu-Hsin-Chang/ML_0716/blob/master/boston.ipynb\" target=\"_parent\"><img src=\"https://colab.research.google.com/assets/colab-badge.svg\" alt=\"Open In Colab\"/></a>"
      ]
    },
    {
      "cell_type": "code",
      "metadata": {
        "id": "pbxlADSSc5Uj",
        "colab_type": "code",
        "colab": {
          "base_uri": "https://localhost:8080/",
          "height": 415
        },
        "outputId": "daf041f1-bbac-4cb2-d68b-83aed49700ef"
      },
      "source": [
        "from sklearn.datasets import load_boston\n",
        "import pandas as pd\n",
        "\n",
        "boston = load_boston()\n",
        "df = pd.DataFrame(boston['data'],\n",
        "                  columns= boston['feature_names'])\n",
        "df['answer'] = boston['target']\n",
        "df.to_csv(\"boston.csv\",encoding = 'utf-8',index = False)\n",
        "df"
      ],
      "execution_count": 3,
      "outputs": [
        {
          "output_type": "execute_result",
          "data": {
            "text/html": [
              "<div>\n",
              "<style scoped>\n",
              "    .dataframe tbody tr th:only-of-type {\n",
              "        vertical-align: middle;\n",
              "    }\n",
              "\n",
              "    .dataframe tbody tr th {\n",
              "        vertical-align: top;\n",
              "    }\n",
              "\n",
              "    .dataframe thead th {\n",
              "        text-align: right;\n",
              "    }\n",
              "</style>\n",
              "<table border=\"1\" class=\"dataframe\">\n",
              "  <thead>\n",
              "    <tr style=\"text-align: right;\">\n",
              "      <th></th>\n",
              "      <th>CRIM</th>\n",
              "      <th>ZN</th>\n",
              "      <th>INDUS</th>\n",
              "      <th>CHAS</th>\n",
              "      <th>NOX</th>\n",
              "      <th>RM</th>\n",
              "      <th>AGE</th>\n",
              "      <th>DIS</th>\n",
              "      <th>RAD</th>\n",
              "      <th>TAX</th>\n",
              "      <th>PTRATIO</th>\n",
              "      <th>B</th>\n",
              "      <th>LSTAT</th>\n",
              "      <th>answer</th>\n",
              "    </tr>\n",
              "  </thead>\n",
              "  <tbody>\n",
              "    <tr>\n",
              "      <th>0</th>\n",
              "      <td>0.00632</td>\n",
              "      <td>18.0</td>\n",
              "      <td>2.31</td>\n",
              "      <td>0.0</td>\n",
              "      <td>0.538</td>\n",
              "      <td>6.575</td>\n",
              "      <td>65.2</td>\n",
              "      <td>4.0900</td>\n",
              "      <td>1.0</td>\n",
              "      <td>296.0</td>\n",
              "      <td>15.3</td>\n",
              "      <td>396.90</td>\n",
              "      <td>4.98</td>\n",
              "      <td>24.0</td>\n",
              "    </tr>\n",
              "    <tr>\n",
              "      <th>1</th>\n",
              "      <td>0.02731</td>\n",
              "      <td>0.0</td>\n",
              "      <td>7.07</td>\n",
              "      <td>0.0</td>\n",
              "      <td>0.469</td>\n",
              "      <td>6.421</td>\n",
              "      <td>78.9</td>\n",
              "      <td>4.9671</td>\n",
              "      <td>2.0</td>\n",
              "      <td>242.0</td>\n",
              "      <td>17.8</td>\n",
              "      <td>396.90</td>\n",
              "      <td>9.14</td>\n",
              "      <td>21.6</td>\n",
              "    </tr>\n",
              "    <tr>\n",
              "      <th>2</th>\n",
              "      <td>0.02729</td>\n",
              "      <td>0.0</td>\n",
              "      <td>7.07</td>\n",
              "      <td>0.0</td>\n",
              "      <td>0.469</td>\n",
              "      <td>7.185</td>\n",
              "      <td>61.1</td>\n",
              "      <td>4.9671</td>\n",
              "      <td>2.0</td>\n",
              "      <td>242.0</td>\n",
              "      <td>17.8</td>\n",
              "      <td>392.83</td>\n",
              "      <td>4.03</td>\n",
              "      <td>34.7</td>\n",
              "    </tr>\n",
              "    <tr>\n",
              "      <th>3</th>\n",
              "      <td>0.03237</td>\n",
              "      <td>0.0</td>\n",
              "      <td>2.18</td>\n",
              "      <td>0.0</td>\n",
              "      <td>0.458</td>\n",
              "      <td>6.998</td>\n",
              "      <td>45.8</td>\n",
              "      <td>6.0622</td>\n",
              "      <td>3.0</td>\n",
              "      <td>222.0</td>\n",
              "      <td>18.7</td>\n",
              "      <td>394.63</td>\n",
              "      <td>2.94</td>\n",
              "      <td>33.4</td>\n",
              "    </tr>\n",
              "    <tr>\n",
              "      <th>4</th>\n",
              "      <td>0.06905</td>\n",
              "      <td>0.0</td>\n",
              "      <td>2.18</td>\n",
              "      <td>0.0</td>\n",
              "      <td>0.458</td>\n",
              "      <td>7.147</td>\n",
              "      <td>54.2</td>\n",
              "      <td>6.0622</td>\n",
              "      <td>3.0</td>\n",
              "      <td>222.0</td>\n",
              "      <td>18.7</td>\n",
              "      <td>396.90</td>\n",
              "      <td>5.33</td>\n",
              "      <td>36.2</td>\n",
              "    </tr>\n",
              "    <tr>\n",
              "      <th>...</th>\n",
              "      <td>...</td>\n",
              "      <td>...</td>\n",
              "      <td>...</td>\n",
              "      <td>...</td>\n",
              "      <td>...</td>\n",
              "      <td>...</td>\n",
              "      <td>...</td>\n",
              "      <td>...</td>\n",
              "      <td>...</td>\n",
              "      <td>...</td>\n",
              "      <td>...</td>\n",
              "      <td>...</td>\n",
              "      <td>...</td>\n",
              "      <td>...</td>\n",
              "    </tr>\n",
              "    <tr>\n",
              "      <th>501</th>\n",
              "      <td>0.06263</td>\n",
              "      <td>0.0</td>\n",
              "      <td>11.93</td>\n",
              "      <td>0.0</td>\n",
              "      <td>0.573</td>\n",
              "      <td>6.593</td>\n",
              "      <td>69.1</td>\n",
              "      <td>2.4786</td>\n",
              "      <td>1.0</td>\n",
              "      <td>273.0</td>\n",
              "      <td>21.0</td>\n",
              "      <td>391.99</td>\n",
              "      <td>9.67</td>\n",
              "      <td>22.4</td>\n",
              "    </tr>\n",
              "    <tr>\n",
              "      <th>502</th>\n",
              "      <td>0.04527</td>\n",
              "      <td>0.0</td>\n",
              "      <td>11.93</td>\n",
              "      <td>0.0</td>\n",
              "      <td>0.573</td>\n",
              "      <td>6.120</td>\n",
              "      <td>76.7</td>\n",
              "      <td>2.2875</td>\n",
              "      <td>1.0</td>\n",
              "      <td>273.0</td>\n",
              "      <td>21.0</td>\n",
              "      <td>396.90</td>\n",
              "      <td>9.08</td>\n",
              "      <td>20.6</td>\n",
              "    </tr>\n",
              "    <tr>\n",
              "      <th>503</th>\n",
              "      <td>0.06076</td>\n",
              "      <td>0.0</td>\n",
              "      <td>11.93</td>\n",
              "      <td>0.0</td>\n",
              "      <td>0.573</td>\n",
              "      <td>6.976</td>\n",
              "      <td>91.0</td>\n",
              "      <td>2.1675</td>\n",
              "      <td>1.0</td>\n",
              "      <td>273.0</td>\n",
              "      <td>21.0</td>\n",
              "      <td>396.90</td>\n",
              "      <td>5.64</td>\n",
              "      <td>23.9</td>\n",
              "    </tr>\n",
              "    <tr>\n",
              "      <th>504</th>\n",
              "      <td>0.10959</td>\n",
              "      <td>0.0</td>\n",
              "      <td>11.93</td>\n",
              "      <td>0.0</td>\n",
              "      <td>0.573</td>\n",
              "      <td>6.794</td>\n",
              "      <td>89.3</td>\n",
              "      <td>2.3889</td>\n",
              "      <td>1.0</td>\n",
              "      <td>273.0</td>\n",
              "      <td>21.0</td>\n",
              "      <td>393.45</td>\n",
              "      <td>6.48</td>\n",
              "      <td>22.0</td>\n",
              "    </tr>\n",
              "    <tr>\n",
              "      <th>505</th>\n",
              "      <td>0.04741</td>\n",
              "      <td>0.0</td>\n",
              "      <td>11.93</td>\n",
              "      <td>0.0</td>\n",
              "      <td>0.573</td>\n",
              "      <td>6.030</td>\n",
              "      <td>80.8</td>\n",
              "      <td>2.5050</td>\n",
              "      <td>1.0</td>\n",
              "      <td>273.0</td>\n",
              "      <td>21.0</td>\n",
              "      <td>396.90</td>\n",
              "      <td>7.88</td>\n",
              "      <td>11.9</td>\n",
              "    </tr>\n",
              "  </tbody>\n",
              "</table>\n",
              "<p>506 rows × 14 columns</p>\n",
              "</div>"
            ],
            "text/plain": [
              "        CRIM    ZN  INDUS  CHAS    NOX  ...    TAX  PTRATIO       B  LSTAT  answer\n",
              "0    0.00632  18.0   2.31   0.0  0.538  ...  296.0     15.3  396.90   4.98    24.0\n",
              "1    0.02731   0.0   7.07   0.0  0.469  ...  242.0     17.8  396.90   9.14    21.6\n",
              "2    0.02729   0.0   7.07   0.0  0.469  ...  242.0     17.8  392.83   4.03    34.7\n",
              "3    0.03237   0.0   2.18   0.0  0.458  ...  222.0     18.7  394.63   2.94    33.4\n",
              "4    0.06905   0.0   2.18   0.0  0.458  ...  222.0     18.7  396.90   5.33    36.2\n",
              "..       ...   ...    ...   ...    ...  ...    ...      ...     ...    ...     ...\n",
              "501  0.06263   0.0  11.93   0.0  0.573  ...  273.0     21.0  391.99   9.67    22.4\n",
              "502  0.04527   0.0  11.93   0.0  0.573  ...  273.0     21.0  396.90   9.08    20.6\n",
              "503  0.06076   0.0  11.93   0.0  0.573  ...  273.0     21.0  396.90   5.64    23.9\n",
              "504  0.10959   0.0  11.93   0.0  0.573  ...  273.0     21.0  393.45   6.48    22.0\n",
              "505  0.04741   0.0  11.93   0.0  0.573  ...  273.0     21.0  396.90   7.88    11.9\n",
              "\n",
              "[506 rows x 14 columns]"
            ]
          },
          "metadata": {
            "tags": []
          },
          "execution_count": 3
        }
      ]
    },
    {
      "cell_type": "code",
      "metadata": {
        "id": "E5CC20TYPvQU",
        "colab_type": "code",
        "colab": {}
      },
      "source": [
        "from sklearn.model_selection import train_test_split\n",
        "#[90% iris_data,10% iris_data,90% tsrget,10% target]\n",
        "x_train,x_test,y_train,y_test = train_test_split(boston['data'],\n",
        "                                                boston['target'],\n",
        "                                                test_size = 0.1)"
      ],
      "execution_count": 4,
      "outputs": []
    },
    {
      "cell_type": "code",
      "metadata": {
        "id": "d9eHG_VCTIox",
        "colab_type": "code",
        "colab": {
          "base_uri": "https://localhost:8080/",
          "height": 121
        },
        "outputId": "8a753a51-5958-4b34-89b6-28f7c636aa70"
      },
      "source": [
        "from sklearn.tree import DecisionTreeRegressor\n",
        "reg = DecisionTreeRegressor(max_depth = 6,random_state=0)\n",
        "reg.fit(x_train,y_train)"
      ],
      "execution_count": 17,
      "outputs": [
        {
          "output_type": "execute_result",
          "data": {
            "text/plain": [
              "DecisionTreeRegressor(ccp_alpha=0.0, criterion='mse', max_depth=6,\n",
              "                      max_features=None, max_leaf_nodes=None,\n",
              "                      min_impurity_decrease=0.0, min_impurity_split=None,\n",
              "                      min_samples_leaf=1, min_samples_split=2,\n",
              "                      min_weight_fraction_leaf=0.0, presort='deprecated',\n",
              "                      random_state=0, splitter='best')"
            ]
          },
          "metadata": {
            "tags": []
          },
          "execution_count": 17
        }
      ]
    },
    {
      "cell_type": "code",
      "metadata": {
        "id": "JqAL-HTKToyU",
        "colab_type": "code",
        "colab": {
          "base_uri": "https://localhost:8080/",
          "height": 655
        },
        "outputId": "96ea4304-69df-40e5-ad23-1f1b54af41f8"
      },
      "source": [
        "import graphviz\n",
        "from sklearn.tree import export_graphviz\n",
        "g = export_graphviz(reg,\n",
        "                    feature_names = boston[\"feature_names\"],\n",
        "                    filled = True,\n",
        "                    max_depth = 3)\n",
        "graphviz.Source(g)"
      ],
      "execution_count": 21,
      "outputs": [
        {
          "output_type": "execute_result",
          "data": {
            "text/plain": [
              "<graphviz.files.Source at 0x7f93aa3b2828>"
            ],
            "image/svg+xml": "<?xml version=\"1.0\" encoding=\"UTF-8\" standalone=\"no\"?>\n<!DOCTYPE svg PUBLIC \"-//W3C//DTD SVG 1.1//EN\"\n \"http://www.w3.org/Graphics/SVG/1.1/DTD/svg11.dtd\">\n<!-- Generated by graphviz version 2.40.1 (20161225.0304)\n -->\n<!-- Title: Tree Pages: 1 -->\n<svg width=\"1061pt\" height=\"460pt\"\n viewBox=\"0.00 0.00 1060.50 460.00\" xmlns=\"http://www.w3.org/2000/svg\" xmlns:xlink=\"http://www.w3.org/1999/xlink\">\n<g id=\"graph0\" class=\"graph\" transform=\"scale(1 1) rotate(0) translate(4 456)\">\n<title>Tree</title>\n<polygon fill=\"#ffffff\" stroke=\"transparent\" points=\"-4,4 -4,-456 1056.5,-456 1056.5,4 -4,4\"/>\n<!-- 0 -->\n<g id=\"node1\" class=\"node\">\n<title>0</title>\n<polygon fill=\"#f7d6bf\" stroke=\"#000000\" points=\"538.5,-452 420.5,-452 420.5,-384 538.5,-384 538.5,-452\"/>\n<text text-anchor=\"middle\" x=\"479.5\" y=\"-436.8\" font-family=\"Times,serif\" font-size=\"14.00\" fill=\"#000000\">LSTAT &lt;= 9.725</text>\n<text text-anchor=\"middle\" x=\"479.5\" y=\"-421.8\" font-family=\"Times,serif\" font-size=\"14.00\" fill=\"#000000\">mse = 82.097</text>\n<text text-anchor=\"middle\" x=\"479.5\" y=\"-406.8\" font-family=\"Times,serif\" font-size=\"14.00\" fill=\"#000000\">samples = 455</text>\n<text text-anchor=\"middle\" x=\"479.5\" y=\"-391.8\" font-family=\"Times,serif\" font-size=\"14.00\" fill=\"#000000\">value = 22.474</text>\n</g>\n<!-- 1 -->\n<g id=\"node2\" class=\"node\">\n<title>1</title>\n<polygon fill=\"#f2c09c\" stroke=\"#000000\" points=\"400.5,-348 296.5,-348 296.5,-280 400.5,-280 400.5,-348\"/>\n<text text-anchor=\"middle\" x=\"348.5\" y=\"-332.8\" font-family=\"Times,serif\" font-size=\"14.00\" fill=\"#000000\">RM &lt;= 7.011</text>\n<text text-anchor=\"middle\" x=\"348.5\" y=\"-317.8\" font-family=\"Times,serif\" font-size=\"14.00\" fill=\"#000000\">mse = 76.618</text>\n<text text-anchor=\"middle\" x=\"348.5\" y=\"-302.8\" font-family=\"Times,serif\" font-size=\"14.00\" fill=\"#000000\">samples = 191</text>\n<text text-anchor=\"middle\" x=\"348.5\" y=\"-287.8\" font-family=\"Times,serif\" font-size=\"14.00\" fill=\"#000000\">value = 29.529</text>\n</g>\n<!-- 0&#45;&gt;1 -->\n<g id=\"edge1\" class=\"edge\">\n<title>0&#45;&gt;1</title>\n<path fill=\"none\" stroke=\"#000000\" d=\"M436.6057,-383.9465C424.7307,-374.519 411.7259,-364.1946 399.4407,-354.4415\"/>\n<polygon fill=\"#000000\" stroke=\"#000000\" points=\"401.4989,-351.6066 391.4907,-348.13 397.1464,-357.089 401.4989,-351.6066\"/>\n<text text-anchor=\"middle\" x=\"394.3442\" y=\"-369.2666\" font-family=\"Times,serif\" font-size=\"14.00\" fill=\"#000000\">True</text>\n</g>\n<!-- 38 -->\n<g id=\"node15\" class=\"node\">\n<title>38</title>\n<polygon fill=\"#fae6d7\" stroke=\"#000000\" points=\"667,-348 542,-348 542,-280 667,-280 667,-348\"/>\n<text text-anchor=\"middle\" x=\"604.5\" y=\"-332.8\" font-family=\"Times,serif\" font-size=\"14.00\" fill=\"#000000\">LSTAT &lt;= 16.085</text>\n<text text-anchor=\"middle\" x=\"604.5\" y=\"-317.8\" font-family=\"Times,serif\" font-size=\"14.00\" fill=\"#000000\">mse = 23.998</text>\n<text text-anchor=\"middle\" x=\"604.5\" y=\"-302.8\" font-family=\"Times,serif\" font-size=\"14.00\" fill=\"#000000\">samples = 264</text>\n<text text-anchor=\"middle\" x=\"604.5\" y=\"-287.8\" font-family=\"Times,serif\" font-size=\"14.00\" fill=\"#000000\">value = 17.37</text>\n</g>\n<!-- 0&#45;&gt;38 -->\n<g id=\"edge14\" class=\"edge\">\n<title>0&#45;&gt;38</title>\n<path fill=\"none\" stroke=\"#000000\" d=\"M520.4297,-383.9465C531.6528,-374.6088 543.9337,-364.3911 555.5573,-354.7203\"/>\n<polygon fill=\"#000000\" stroke=\"#000000\" points=\"558.0296,-357.2164 563.4784,-348.13 553.5526,-351.8353 558.0296,-357.2164\"/>\n<text text-anchor=\"middle\" x=\"561.1954\" y=\"-369.3255\" font-family=\"Times,serif\" font-size=\"14.00\" fill=\"#000000\">False</text>\n</g>\n<!-- 2 -->\n<g id=\"node3\" class=\"node\">\n<title>2</title>\n<polygon fill=\"#f4cbae\" stroke=\"#000000\" points=\"211.5,-244 107.5,-244 107.5,-176 211.5,-176 211.5,-244\"/>\n<text text-anchor=\"middle\" x=\"159.5\" y=\"-228.8\" font-family=\"Times,serif\" font-size=\"14.00\" fill=\"#000000\">DIS &lt;= 1.485</text>\n<text text-anchor=\"middle\" x=\"159.5\" y=\"-213.8\" font-family=\"Times,serif\" font-size=\"14.00\" fill=\"#000000\">mse = 35.707</text>\n<text text-anchor=\"middle\" x=\"159.5\" y=\"-198.8\" font-family=\"Times,serif\" font-size=\"14.00\" fill=\"#000000\">samples = 141</text>\n<text text-anchor=\"middle\" x=\"159.5\" y=\"-183.8\" font-family=\"Times,serif\" font-size=\"14.00\" fill=\"#000000\">value = 25.993</text>\n</g>\n<!-- 1&#45;&gt;2 -->\n<g id=\"edge2\" class=\"edge\">\n<title>1&#45;&gt;2</title>\n<path fill=\"none\" stroke=\"#000000\" d=\"M296.3546,-285.3062C272.9022,-272.4012 245.0617,-257.0816 220.6339,-243.6398\"/>\n<polygon fill=\"#000000\" stroke=\"#000000\" points=\"222.2515,-240.5351 211.803,-238.7805 218.8768,-246.6679 222.2515,-240.5351\"/>\n</g>\n<!-- 19 -->\n<g id=\"node8\" class=\"node\">\n<title>19</title>\n<polygon fill=\"#eca16c\" stroke=\"#000000\" points=\"397,-244 300,-244 300,-176 397,-176 397,-244\"/>\n<text text-anchor=\"middle\" x=\"348.5\" y=\"-228.8\" font-family=\"Times,serif\" font-size=\"14.00\" fill=\"#000000\">RM &lt;= 7.445</text>\n<text text-anchor=\"middle\" x=\"348.5\" y=\"-213.8\" font-family=\"Times,serif\" font-size=\"14.00\" fill=\"#000000\">mse = 57.305</text>\n<text text-anchor=\"middle\" x=\"348.5\" y=\"-198.8\" font-family=\"Times,serif\" font-size=\"14.00\" fill=\"#000000\">samples = 50</text>\n<text text-anchor=\"middle\" x=\"348.5\" y=\"-183.8\" font-family=\"Times,serif\" font-size=\"14.00\" fill=\"#000000\">value = 39.5</text>\n</g>\n<!-- 1&#45;&gt;19 -->\n<g id=\"edge7\" class=\"edge\">\n<title>1&#45;&gt;19</title>\n<path fill=\"none\" stroke=\"#000000\" d=\"M348.5,-279.9465C348.5,-271.776 348.5,-262.9318 348.5,-254.3697\"/>\n<polygon fill=\"#000000\" stroke=\"#000000\" points=\"352.0001,-254.13 348.5,-244.13 345.0001,-254.13 352.0001,-254.13\"/>\n</g>\n<!-- 3 -->\n<g id=\"node4\" class=\"node\">\n<title>3</title>\n<polygon fill=\"#e58139\" stroke=\"#000000\" points=\"89,-132.5 0,-132.5 0,-79.5 89,-79.5 89,-132.5\"/>\n<text text-anchor=\"middle\" x=\"44.5\" y=\"-117.3\" font-family=\"Times,serif\" font-size=\"14.00\" fill=\"#000000\">mse = 0.0</text>\n<text text-anchor=\"middle\" x=\"44.5\" y=\"-102.3\" font-family=\"Times,serif\" font-size=\"14.00\" fill=\"#000000\">samples = 4</text>\n<text text-anchor=\"middle\" x=\"44.5\" y=\"-87.3\" font-family=\"Times,serif\" font-size=\"14.00\" fill=\"#000000\">value = 50.0</text>\n</g>\n<!-- 2&#45;&gt;3 -->\n<g id=\"edge3\" class=\"edge\">\n<title>2&#45;&gt;3</title>\n<path fill=\"none\" stroke=\"#000000\" d=\"M121.8447,-175.9465C108.8122,-164.1606 94.2294,-150.9726 81.2689,-139.2519\"/>\n<polygon fill=\"#000000\" stroke=\"#000000\" points=\"83.614,-136.6537 73.8495,-132.5422 78.9188,-141.8456 83.614,-136.6537\"/>\n</g>\n<!-- 4 -->\n<g id=\"node5\" class=\"node\">\n<title>4</title>\n<polygon fill=\"#f5cdb1\" stroke=\"#000000\" points=\"211.5,-140 107.5,-140 107.5,-72 211.5,-72 211.5,-140\"/>\n<text text-anchor=\"middle\" x=\"159.5\" y=\"-124.8\" font-family=\"Times,serif\" font-size=\"14.00\" fill=\"#000000\">RM &lt;= 6.543</text>\n<text text-anchor=\"middle\" x=\"159.5\" y=\"-109.8\" font-family=\"Times,serif\" font-size=\"14.00\" fill=\"#000000\">mse = 19.431</text>\n<text text-anchor=\"middle\" x=\"159.5\" y=\"-94.8\" font-family=\"Times,serif\" font-size=\"14.00\" fill=\"#000000\">samples = 137</text>\n<text text-anchor=\"middle\" x=\"159.5\" y=\"-79.8\" font-family=\"Times,serif\" font-size=\"14.00\" fill=\"#000000\">value = 25.292</text>\n</g>\n<!-- 2&#45;&gt;4 -->\n<g id=\"edge4\" class=\"edge\">\n<title>2&#45;&gt;4</title>\n<path fill=\"none\" stroke=\"#000000\" d=\"M159.5,-175.9465C159.5,-167.776 159.5,-158.9318 159.5,-150.3697\"/>\n<polygon fill=\"#000000\" stroke=\"#000000\" points=\"163.0001,-150.13 159.5,-140.13 156.0001,-150.13 163.0001,-150.13\"/>\n</g>\n<!-- 5 -->\n<g id=\"node6\" class=\"node\">\n<title>5</title>\n<polygon fill=\"#c0c0c0\" stroke=\"#000000\" points=\"114.5,-36 60.5,-36 60.5,0 114.5,0 114.5,-36\"/>\n<text text-anchor=\"middle\" x=\"87.5\" y=\"-14.3\" font-family=\"Times,serif\" font-size=\"14.00\" fill=\"#000000\">(...)</text>\n</g>\n<!-- 4&#45;&gt;5 -->\n<g id=\"edge5\" class=\"edge\">\n<title>4&#45;&gt;5</title>\n<path fill=\"none\" stroke=\"#000000\" d=\"M131.6629,-71.9769C124.1059,-62.7406 116.0424,-52.8851 108.9014,-44.1573\"/>\n<polygon fill=\"#000000\" stroke=\"#000000\" points=\"111.4256,-41.7152 102.3843,-36.192 106.0079,-46.1479 111.4256,-41.7152\"/>\n</g>\n<!-- 12 -->\n<g id=\"node7\" class=\"node\">\n<title>12</title>\n<polygon fill=\"#c0c0c0\" stroke=\"#000000\" points=\"186.5,-36 132.5,-36 132.5,0 186.5,0 186.5,-36\"/>\n<text text-anchor=\"middle\" x=\"159.5\" y=\"-14.3\" font-family=\"Times,serif\" font-size=\"14.00\" fill=\"#000000\">(...)</text>\n</g>\n<!-- 4&#45;&gt;12 -->\n<g id=\"edge6\" class=\"edge\">\n<title>4&#45;&gt;12</title>\n<path fill=\"none\" stroke=\"#000000\" d=\"M159.5,-71.9769C159.5,-63.5023 159.5,-54.5065 159.5,-46.3388\"/>\n<polygon fill=\"#000000\" stroke=\"#000000\" points=\"163.0001,-46.1919 159.5,-36.192 156.0001,-46.192 163.0001,-46.1919\"/>\n</g>\n<!-- 20 -->\n<g id=\"node9\" class=\"node\">\n<title>20</title>\n<polygon fill=\"#efb285\" stroke=\"#000000\" points=\"340.5,-140 236.5,-140 236.5,-72 340.5,-72 340.5,-140\"/>\n<text text-anchor=\"middle\" x=\"288.5\" y=\"-124.8\" font-family=\"Times,serif\" font-size=\"14.00\" fill=\"#000000\">RM &lt;= 7.02</text>\n<text text-anchor=\"middle\" x=\"288.5\" y=\"-109.8\" font-family=\"Times,serif\" font-size=\"14.00\" fill=\"#000000\">mse = 18.737</text>\n<text text-anchor=\"middle\" x=\"288.5\" y=\"-94.8\" font-family=\"Times,serif\" font-size=\"14.00\" fill=\"#000000\">samples = 25</text>\n<text text-anchor=\"middle\" x=\"288.5\" y=\"-79.8\" font-family=\"Times,serif\" font-size=\"14.00\" fill=\"#000000\">value = 34.268</text>\n</g>\n<!-- 19&#45;&gt;20 -->\n<g id=\"edge8\" class=\"edge\">\n<title>19&#45;&gt;20</title>\n<path fill=\"none\" stroke=\"#000000\" d=\"M328.8538,-175.9465C323.881,-167.3271 318.4757,-157.9579 313.2852,-148.9611\"/>\n<polygon fill=\"#000000\" stroke=\"#000000\" points=\"316.2193,-147.0428 308.1904,-140.13 310.156,-150.5409 316.2193,-147.0428\"/>\n</g>\n<!-- 29 -->\n<g id=\"node12\" class=\"node\">\n<title>29</title>\n<polygon fill=\"#e89153\" stroke=\"#000000\" points=\"462.5,-140 358.5,-140 358.5,-72 462.5,-72 462.5,-140\"/>\n<text text-anchor=\"middle\" x=\"410.5\" y=\"-124.8\" font-family=\"Times,serif\" font-size=\"14.00\" fill=\"#000000\">RM &lt;= 8.753</text>\n<text text-anchor=\"middle\" x=\"410.5\" y=\"-109.8\" font-family=\"Times,serif\" font-size=\"14.00\" fill=\"#000000\">mse = 41.126</text>\n<text text-anchor=\"middle\" x=\"410.5\" y=\"-94.8\" font-family=\"Times,serif\" font-size=\"14.00\" fill=\"#000000\">samples = 25</text>\n<text text-anchor=\"middle\" x=\"410.5\" y=\"-79.8\" font-family=\"Times,serif\" font-size=\"14.00\" fill=\"#000000\">value = 44.732</text>\n</g>\n<!-- 19&#45;&gt;29 -->\n<g id=\"edge11\" class=\"edge\">\n<title>19&#45;&gt;29</title>\n<path fill=\"none\" stroke=\"#000000\" d=\"M368.8011,-175.9465C373.9396,-167.3271 379.5251,-157.9579 384.8886,-148.9611\"/>\n<polygon fill=\"#000000\" stroke=\"#000000\" points=\"388.0389,-150.5117 390.1533,-140.13 382.0263,-146.9272 388.0389,-150.5117\"/>\n</g>\n<!-- 21 -->\n<g id=\"node10\" class=\"node\">\n<title>21</title>\n<polygon fill=\"#c0c0c0\" stroke=\"#000000\" points=\"258.5,-36 204.5,-36 204.5,0 258.5,0 258.5,-36\"/>\n<text text-anchor=\"middle\" x=\"231.5\" y=\"-14.3\" font-family=\"Times,serif\" font-size=\"14.00\" fill=\"#000000\">(...)</text>\n</g>\n<!-- 20&#45;&gt;21 -->\n<g id=\"edge9\" class=\"edge\">\n<title>20&#45;&gt;21</title>\n<path fill=\"none\" stroke=\"#000000\" d=\"M266.4623,-71.9769C260.603,-62.931 254.3591,-53.2913 248.7934,-44.6986\"/>\n<polygon fill=\"#000000\" stroke=\"#000000\" points=\"251.6575,-42.6823 243.2834,-36.192 245.7823,-46.4879 251.6575,-42.6823\"/>\n</g>\n<!-- 22 -->\n<g id=\"node11\" class=\"node\">\n<title>22</title>\n<polygon fill=\"#c0c0c0\" stroke=\"#000000\" points=\"330.5,-36 276.5,-36 276.5,0 330.5,0 330.5,-36\"/>\n<text text-anchor=\"middle\" x=\"303.5\" y=\"-14.3\" font-family=\"Times,serif\" font-size=\"14.00\" fill=\"#000000\">(...)</text>\n</g>\n<!-- 20&#45;&gt;22 -->\n<g id=\"edge10\" class=\"edge\">\n<title>20&#45;&gt;22</title>\n<path fill=\"none\" stroke=\"#000000\" d=\"M294.2994,-71.9769C295.7601,-63.4071 297.3118,-54.3043 298.7164,-46.0638\"/>\n<polygon fill=\"#000000\" stroke=\"#000000\" points=\"302.1689,-46.6379 300.3991,-36.192 295.2685,-45.4616 302.1689,-46.6379\"/>\n</g>\n<!-- 30 -->\n<g id=\"node13\" class=\"node\">\n<title>30</title>\n<polygon fill=\"#c0c0c0\" stroke=\"#000000\" points=\"402.5,-36 348.5,-36 348.5,0 402.5,0 402.5,-36\"/>\n<text text-anchor=\"middle\" x=\"375.5\" y=\"-14.3\" font-family=\"Times,serif\" font-size=\"14.00\" fill=\"#000000\">(...)</text>\n</g>\n<!-- 29&#45;&gt;30 -->\n<g id=\"edge12\" class=\"edge\">\n<title>29&#45;&gt;30</title>\n<path fill=\"none\" stroke=\"#000000\" d=\"M396.9681,-71.9769C393.4839,-63.2167 389.7782,-53.8995 386.4438,-45.5157\"/>\n<polygon fill=\"#000000\" stroke=\"#000000\" points=\"389.6834,-44.1905 382.7354,-36.192 383.179,-46.7775 389.6834,-44.1905\"/>\n</g>\n<!-- 37 -->\n<g id=\"node14\" class=\"node\">\n<title>37</title>\n<polygon fill=\"#c0c0c0\" stroke=\"#000000\" points=\"474.5,-36 420.5,-36 420.5,0 474.5,0 474.5,-36\"/>\n<text text-anchor=\"middle\" x=\"447.5\" y=\"-14.3\" font-family=\"Times,serif\" font-size=\"14.00\" fill=\"#000000\">(...)</text>\n</g>\n<!-- 29&#45;&gt;37 -->\n<g id=\"edge13\" class=\"edge\">\n<title>29&#45;&gt;37</title>\n<path fill=\"none\" stroke=\"#000000\" d=\"M424.8052,-71.9769C428.4884,-63.2167 432.4059,-53.8995 435.9309,-45.5157\"/>\n<polygon fill=\"#000000\" stroke=\"#000000\" points=\"439.2016,-46.7669 439.8511,-36.192 432.7487,-44.0537 439.2016,-46.7669\"/>\n</g>\n<!-- 39 -->\n<g id=\"node16\" class=\"node\">\n<title>39</title>\n<polygon fill=\"#f8ddc9\" stroke=\"#000000\" points=\"656.5,-244 552.5,-244 552.5,-176 656.5,-176 656.5,-244\"/>\n<text text-anchor=\"middle\" x=\"604.5\" y=\"-228.8\" font-family=\"Times,serif\" font-size=\"14.00\" fill=\"#000000\">B &lt;= 116.025</text>\n<text text-anchor=\"middle\" x=\"604.5\" y=\"-213.8\" font-family=\"Times,serif\" font-size=\"14.00\" fill=\"#000000\">mse = 11.199</text>\n<text text-anchor=\"middle\" x=\"604.5\" y=\"-198.8\" font-family=\"Times,serif\" font-size=\"14.00\" fill=\"#000000\">samples = 137</text>\n<text text-anchor=\"middle\" x=\"604.5\" y=\"-183.8\" font-family=\"Times,serif\" font-size=\"14.00\" fill=\"#000000\">value = 20.307</text>\n</g>\n<!-- 38&#45;&gt;39 -->\n<g id=\"edge15\" class=\"edge\">\n<title>38&#45;&gt;39</title>\n<path fill=\"none\" stroke=\"#000000\" d=\"M604.5,-279.9465C604.5,-271.776 604.5,-262.9318 604.5,-254.3697\"/>\n<polygon fill=\"#000000\" stroke=\"#000000\" points=\"608.0001,-254.13 604.5,-244.13 601.0001,-254.13 608.0001,-254.13\"/>\n</g>\n<!-- 64 -->\n<g id=\"node23\" class=\"node\">\n<title>64</title>\n<polygon fill=\"#fcf0e7\" stroke=\"#000000\" points=\"860.5,-244 754.5,-244 754.5,-176 860.5,-176 860.5,-244\"/>\n<text text-anchor=\"middle\" x=\"807.5\" y=\"-228.8\" font-family=\"Times,serif\" font-size=\"14.00\" fill=\"#000000\">NOX &lt;= 0.603</text>\n<text text-anchor=\"middle\" x=\"807.5\" y=\"-213.8\" font-family=\"Times,serif\" font-size=\"14.00\" fill=\"#000000\">mse = 18.455</text>\n<text text-anchor=\"middle\" x=\"807.5\" y=\"-198.8\" font-family=\"Times,serif\" font-size=\"14.00\" fill=\"#000000\">samples = 127</text>\n<text text-anchor=\"middle\" x=\"807.5\" y=\"-183.8\" font-family=\"Times,serif\" font-size=\"14.00\" fill=\"#000000\">value = 14.201</text>\n</g>\n<!-- 38&#45;&gt;64 -->\n<g id=\"edge22\" class=\"edge\">\n<title>38&#45;&gt;64</title>\n<path fill=\"none\" stroke=\"#000000\" d=\"M667.0631,-281.948C691.9642,-269.1907 720.5506,-254.5455 745.4052,-241.8121\"/>\n<polygon fill=\"#000000\" stroke=\"#000000\" points=\"747.0755,-244.8891 754.3796,-237.2144 743.8837,-238.659 747.0755,-244.8891\"/>\n</g>\n<!-- 40 -->\n<g id=\"node17\" class=\"node\">\n<title>40</title>\n<polygon fill=\"#fcf0e8\" stroke=\"#000000\" points=\"597,-140 486,-140 486,-72 597,-72 597,-140\"/>\n<text text-anchor=\"middle\" x=\"541.5\" y=\"-124.8\" font-family=\"Times,serif\" font-size=\"14.00\" fill=\"#000000\">CRIM &lt;= 9.346</text>\n<text text-anchor=\"middle\" x=\"541.5\" y=\"-109.8\" font-family=\"Times,serif\" font-size=\"14.00\" fill=\"#000000\">mse = 8.353</text>\n<text text-anchor=\"middle\" x=\"541.5\" y=\"-94.8\" font-family=\"Times,serif\" font-size=\"14.00\" fill=\"#000000\">samples = 7</text>\n<text text-anchor=\"middle\" x=\"541.5\" y=\"-79.8\" font-family=\"Times,serif\" font-size=\"14.00\" fill=\"#000000\">value = 14.014</text>\n</g>\n<!-- 39&#45;&gt;40 -->\n<g id=\"edge16\" class=\"edge\">\n<title>39&#45;&gt;40</title>\n<path fill=\"none\" stroke=\"#000000\" d=\"M583.8714,-175.9465C578.6501,-167.3271 572.9745,-157.9579 567.5245,-148.9611\"/>\n<polygon fill=\"#000000\" stroke=\"#000000\" points=\"570.3497,-146.8697 562.1749,-140.13 564.3626,-150.4965 570.3497,-146.8697\"/>\n</g>\n<!-- 51 -->\n<g id=\"node20\" class=\"node\">\n<title>51</title>\n<polygon fill=\"#f8dcc8\" stroke=\"#000000\" points=\"719.5,-140 615.5,-140 615.5,-72 719.5,-72 719.5,-140\"/>\n<text text-anchor=\"middle\" x=\"667.5\" y=\"-124.8\" font-family=\"Times,serif\" font-size=\"14.00\" fill=\"#000000\">RM &lt;= 6.797</text>\n<text text-anchor=\"middle\" x=\"667.5\" y=\"-109.8\" font-family=\"Times,serif\" font-size=\"14.00\" fill=\"#000000\">mse = 9.105</text>\n<text text-anchor=\"middle\" x=\"667.5\" y=\"-94.8\" font-family=\"Times,serif\" font-size=\"14.00\" fill=\"#000000\">samples = 130</text>\n<text text-anchor=\"middle\" x=\"667.5\" y=\"-79.8\" font-family=\"Times,serif\" font-size=\"14.00\" fill=\"#000000\">value = 20.646</text>\n</g>\n<!-- 39&#45;&gt;51 -->\n<g id=\"edge19\" class=\"edge\">\n<title>39&#45;&gt;51</title>\n<path fill=\"none\" stroke=\"#000000\" d=\"M625.1286,-175.9465C630.3499,-167.3271 636.0255,-157.9579 641.4755,-148.9611\"/>\n<polygon fill=\"#000000\" stroke=\"#000000\" points=\"644.6374,-150.4965 646.8251,-140.13 638.6503,-146.8697 644.6374,-150.4965\"/>\n</g>\n<!-- 41 -->\n<g id=\"node18\" class=\"node\">\n<title>41</title>\n<polygon fill=\"#c0c0c0\" stroke=\"#000000\" points=\"546.5,-36 492.5,-36 492.5,0 546.5,0 546.5,-36\"/>\n<text text-anchor=\"middle\" x=\"519.5\" y=\"-14.3\" font-family=\"Times,serif\" font-size=\"14.00\" fill=\"#000000\">(...)</text>\n</g>\n<!-- 40&#45;&gt;41 -->\n<g id=\"edge17\" class=\"edge\">\n<title>40&#45;&gt;41</title>\n<path fill=\"none\" stroke=\"#000000\" d=\"M532.9942,-71.9769C530.8518,-63.4071 528.5761,-54.3043 526.5159,-46.0638\"/>\n<polygon fill=\"#000000\" stroke=\"#000000\" points=\"529.8689,-45.0445 524.048,-36.192 523.0779,-46.7423 529.8689,-45.0445\"/>\n</g>\n<!-- 46 -->\n<g id=\"node19\" class=\"node\">\n<title>46</title>\n<polygon fill=\"#c0c0c0\" stroke=\"#000000\" points=\"618.5,-36 564.5,-36 564.5,0 618.5,0 618.5,-36\"/>\n<text text-anchor=\"middle\" x=\"591.5\" y=\"-14.3\" font-family=\"Times,serif\" font-size=\"14.00\" fill=\"#000000\">(...)</text>\n</g>\n<!-- 40&#45;&gt;46 -->\n<g id=\"edge18\" class=\"edge\">\n<title>40&#45;&gt;46</title>\n<path fill=\"none\" stroke=\"#000000\" d=\"M560.8313,-71.9769C565.9169,-63.0262 571.3329,-53.4941 576.176,-44.9703\"/>\n<polygon fill=\"#000000\" stroke=\"#000000\" points=\"579.2666,-46.6156 581.1637,-36.192 573.1804,-43.1575 579.2666,-46.6156\"/>\n</g>\n<!-- 52 -->\n<g id=\"node21\" class=\"node\">\n<title>52</title>\n<polygon fill=\"#c0c0c0\" stroke=\"#000000\" points=\"690.5,-36 636.5,-36 636.5,0 690.5,0 690.5,-36\"/>\n<text text-anchor=\"middle\" x=\"663.5\" y=\"-14.3\" font-family=\"Times,serif\" font-size=\"14.00\" fill=\"#000000\">(...)</text>\n</g>\n<!-- 51&#45;&gt;52 -->\n<g id=\"edge20\" class=\"edge\">\n<title>51&#45;&gt;52</title>\n<path fill=\"none\" stroke=\"#000000\" d=\"M665.9535,-71.9769C665.5683,-63.5023 665.1594,-54.5065 664.7881,-46.3388\"/>\n<polygon fill=\"#000000\" stroke=\"#000000\" points=\"668.2775,-46.0227 664.3269,-36.192 661.2847,-46.3406 668.2775,-46.0227\"/>\n</g>\n<!-- 59 -->\n<g id=\"node22\" class=\"node\">\n<title>59</title>\n<polygon fill=\"#c0c0c0\" stroke=\"#000000\" points=\"762.5,-36 708.5,-36 708.5,0 762.5,0 762.5,-36\"/>\n<text text-anchor=\"middle\" x=\"735.5\" y=\"-14.3\" font-family=\"Times,serif\" font-size=\"14.00\" fill=\"#000000\">(...)</text>\n</g>\n<!-- 51&#45;&gt;59 -->\n<g id=\"edge21\" class=\"edge\">\n<title>51&#45;&gt;59</title>\n<path fill=\"none\" stroke=\"#000000\" d=\"M693.7906,-71.9769C700.9277,-62.7406 708.5433,-52.8851 715.2875,-44.1573\"/>\n<polygon fill=\"#000000\" stroke=\"#000000\" points=\"718.0976,-46.2449 721.4426,-36.192 712.5586,-41.9647 718.0976,-46.2449\"/>\n</g>\n<!-- 65 -->\n<g id=\"node24\" class=\"node\">\n<title>65</title>\n<polygon fill=\"#fae4d5\" stroke=\"#000000\" points=\"874.5,-140 740.5,-140 740.5,-72 874.5,-72 874.5,-140\"/>\n<text text-anchor=\"middle\" x=\"807.5\" y=\"-124.8\" font-family=\"Times,serif\" font-size=\"14.00\" fill=\"#000000\">PTRATIO &lt;= 20.95</text>\n<text text-anchor=\"middle\" x=\"807.5\" y=\"-109.8\" font-family=\"Times,serif\" font-size=\"14.00\" fill=\"#000000\">mse = 13.277</text>\n<text text-anchor=\"middle\" x=\"807.5\" y=\"-94.8\" font-family=\"Times,serif\" font-size=\"14.00\" fill=\"#000000\">samples = 43</text>\n<text text-anchor=\"middle\" x=\"807.5\" y=\"-79.8\" font-family=\"Times,serif\" font-size=\"14.00\" fill=\"#000000\">value = 17.823</text>\n</g>\n<!-- 64&#45;&gt;65 -->\n<g id=\"edge23\" class=\"edge\">\n<title>64&#45;&gt;65</title>\n<path fill=\"none\" stroke=\"#000000\" d=\"M807.5,-175.9465C807.5,-167.776 807.5,-158.9318 807.5,-150.3697\"/>\n<polygon fill=\"#000000\" stroke=\"#000000\" points=\"811.0001,-150.13 807.5,-140.13 804.0001,-150.13 811.0001,-150.13\"/>\n</g>\n<!-- 80 -->\n<g id=\"node27\" class=\"node\">\n<title>80</title>\n<polygon fill=\"#fdf5f0\" stroke=\"#000000\" points=\"1018,-140 893,-140 893,-72 1018,-72 1018,-140\"/>\n<text text-anchor=\"middle\" x=\"955.5\" y=\"-124.8\" font-family=\"Times,serif\" font-size=\"14.00\" fill=\"#000000\">LSTAT &lt;= 19.645</text>\n<text text-anchor=\"middle\" x=\"955.5\" y=\"-109.8\" font-family=\"Times,serif\" font-size=\"14.00\" fill=\"#000000\">mse = 10.95</text>\n<text text-anchor=\"middle\" x=\"955.5\" y=\"-94.8\" font-family=\"Times,serif\" font-size=\"14.00\" fill=\"#000000\">samples = 84</text>\n<text text-anchor=\"middle\" x=\"955.5\" y=\"-79.8\" font-family=\"Times,serif\" font-size=\"14.00\" fill=\"#000000\">value = 12.346</text>\n</g>\n<!-- 64&#45;&gt;80 -->\n<g id=\"edge26\" class=\"edge\">\n<title>64&#45;&gt;80</title>\n<path fill=\"none\" stroke=\"#000000\" d=\"M855.9607,-175.9465C869.6323,-166.3395 884.6294,-155.8009 898.7409,-145.8848\"/>\n<polygon fill=\"#000000\" stroke=\"#000000\" points=\"900.7608,-148.7432 906.9304,-140.13 896.7361,-143.0158 900.7608,-148.7432\"/>\n</g>\n<!-- 66 -->\n<g id=\"node25\" class=\"node\">\n<title>66</title>\n<polygon fill=\"#c0c0c0\" stroke=\"#000000\" points=\"834.5,-36 780.5,-36 780.5,0 834.5,0 834.5,-36\"/>\n<text text-anchor=\"middle\" x=\"807.5\" y=\"-14.3\" font-family=\"Times,serif\" font-size=\"14.00\" fill=\"#000000\">(...)</text>\n</g>\n<!-- 65&#45;&gt;66 -->\n<g id=\"edge24\" class=\"edge\">\n<title>65&#45;&gt;66</title>\n<path fill=\"none\" stroke=\"#000000\" d=\"M807.5,-71.9769C807.5,-63.5023 807.5,-54.5065 807.5,-46.3388\"/>\n<polygon fill=\"#000000\" stroke=\"#000000\" points=\"811.0001,-46.1919 807.5,-36.192 804.0001,-46.192 811.0001,-46.1919\"/>\n</g>\n<!-- 73 -->\n<g id=\"node26\" class=\"node\">\n<title>73</title>\n<polygon fill=\"#c0c0c0\" stroke=\"#000000\" points=\"906.5,-36 852.5,-36 852.5,0 906.5,0 906.5,-36\"/>\n<text text-anchor=\"middle\" x=\"879.5\" y=\"-14.3\" font-family=\"Times,serif\" font-size=\"14.00\" fill=\"#000000\">(...)</text>\n</g>\n<!-- 65&#45;&gt;73 -->\n<g id=\"edge25\" class=\"edge\">\n<title>65&#45;&gt;73</title>\n<path fill=\"none\" stroke=\"#000000\" d=\"M835.3371,-71.9769C842.8941,-62.7406 850.9576,-52.8851 858.0986,-44.1573\"/>\n<polygon fill=\"#000000\" stroke=\"#000000\" points=\"860.9921,-46.1479 864.6157,-36.192 855.5744,-41.7152 860.9921,-46.1479\"/>\n</g>\n<!-- 81 -->\n<g id=\"node28\" class=\"node\">\n<title>81</title>\n<polygon fill=\"#c0c0c0\" stroke=\"#000000\" points=\"980.5,-36 926.5,-36 926.5,0 980.5,0 980.5,-36\"/>\n<text text-anchor=\"middle\" x=\"953.5\" y=\"-14.3\" font-family=\"Times,serif\" font-size=\"14.00\" fill=\"#000000\">(...)</text>\n</g>\n<!-- 80&#45;&gt;81 -->\n<g id=\"edge27\" class=\"edge\">\n<title>80&#45;&gt;81</title>\n<path fill=\"none\" stroke=\"#000000\" d=\"M954.7267,-71.9769C954.5341,-63.5023 954.3297,-54.5065 954.1441,-46.3388\"/>\n<polygon fill=\"#000000\" stroke=\"#000000\" points=\"957.6399,-46.1098 953.9135,-36.192 950.6417,-46.2689 957.6399,-46.1098\"/>\n</g>\n<!-- 88 -->\n<g id=\"node29\" class=\"node\">\n<title>88</title>\n<polygon fill=\"#c0c0c0\" stroke=\"#000000\" points=\"1052.5,-36 998.5,-36 998.5,0 1052.5,0 1052.5,-36\"/>\n<text text-anchor=\"middle\" x=\"1025.5\" y=\"-14.3\" font-family=\"Times,serif\" font-size=\"14.00\" fill=\"#000000\">(...)</text>\n</g>\n<!-- 80&#45;&gt;88 -->\n<g id=\"edge28\" class=\"edge\">\n<title>80&#45;&gt;88</title>\n<path fill=\"none\" stroke=\"#000000\" d=\"M982.5638,-71.9769C989.9109,-62.7406 997.7505,-52.8851 1004.6931,-44.1573\"/>\n<polygon fill=\"#000000\" stroke=\"#000000\" points=\"1007.543,-46.1968 1011.0291,-36.192 1002.0647,-41.8391 1007.543,-46.1968\"/>\n</g>\n</g>\n</svg>\n"
          },
          "metadata": {
            "tags": []
          },
          "execution_count": 21
        }
      ]
    },
    {
      "cell_type": "code",
      "metadata": {
        "id": "kBxWUxh8k13q",
        "colab_type": "code",
        "colab": {
          "base_uri": "https://localhost:8080/",
          "height": 35
        },
        "outputId": "b89f5f70-3c4b-426b-aada-e5f877a114b5"
      },
      "source": [
        "from sklearn.metrics import r2_score\n",
        "pre = reg.predict(x_test)\n",
        "r2_score(y_test,pre)"
      ],
      "execution_count": 19,
      "outputs": [
        {
          "output_type": "execute_result",
          "data": {
            "text/plain": [
              "0.8802400218812364"
            ]
          },
          "metadata": {
            "tags": []
          },
          "execution_count": 19
        }
      ]
    }
  ]
}